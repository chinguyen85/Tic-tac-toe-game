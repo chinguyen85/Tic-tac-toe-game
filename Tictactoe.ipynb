{
 "cells": [
  {
   "cell_type": "markdown",
   "id": "4868f61a",
   "metadata": {},
   "source": [
    "# Group 14 Project - Tic Tac Toe\n",
    "## Group members \n",
    "### Dinh Khanh Chi Nguyen - Front-end developer and project management\n",
    "### Phornpailin Lin Lertudomkitpaisan - Presenter\n",
    "### Hao Zhang - Backend developer\n",
    "### Dalsi Samarathunga - Power point slides designer\n",
    "### Roshini Fernando - Tester\n"
   ]
  },
  {
   "cell_type": "code",
   "execution_count": 1,
   "id": "2f043df1",
   "metadata": {},
   "outputs": [
    {
     "name": "stdout",
     "output_type": "stream",
     "text": [
      "Requirement already satisfied: pygame in /Users/hao/opt/anaconda3/lib/python3.9/site-packages (2.2.0)\r\n"
     ]
    }
   ],
   "source": [
    "!pip install pygame"
   ]
  },
  {
   "cell_type": "markdown",
   "id": "86517581",
   "metadata": {},
   "source": [
    "# import necessary modules"
   ]
  },
  {
   "cell_type": "code",
   "execution_count": 2,
   "id": "20bebe95",
   "metadata": {},
   "outputs": [
    {
     "name": "stdout",
     "output_type": "stream",
     "text": [
      "pygame 2.2.0 (SDL 2.0.22, Python 3.9.13)\n",
      "Hello from the pygame community. https://www.pygame.org/contribute.html\n"
     ]
    }
   ],
   "source": [
    "# import necessary modules\n",
    "import pygame as pg\n",
    "import sys\n",
    "from pygame.locals import *\n",
    "import time\n",
    "import random"
   ]
  },
  {
   "cell_type": "markdown",
   "id": "e694d57e",
   "metadata": {},
   "source": [
    "# initialize global variables and resources"
   ]
  },
  {
   "cell_type": "code",
   "execution_count": 3,
   "id": "2dbb5b6b",
   "metadata": {},
   "outputs": [],
   "source": [
    "# initialize global variables\n",
    "XO = 'x'\n",
    "winner = None\n",
    "draw = False\n",
    "width = 400\n",
    "height = 400\n",
    "white = (255, 255, 255)\n",
    "line_color = (10, 10, 10)\n",
    "\n",
    "# TicTacToe 3x3 board\n",
    "TTT = [[None]*3, [None]*3, [None]*3]\n",
    "\n",
    "# initializing pygame window\n",
    "pg.init()\n",
    "pg.mixer.init()\n",
    "click_sound = pg.mixer.Sound('click.mp3')\n",
    "draw_sound = pg.mixer.Sound('draw.mp3')\n",
    "win_sound = pg.mixer.Sound('win.mp3')\n",
    "tie_sound = pg.mixer.Sound('tie.mp3')\n",
    "\n",
    "fps = 30\n",
    "CLOCK = pg.time.Clock()\n",
    "screen = pg.display.set_mode((width, height+100), 0, 32)\n",
    "pg.display.set_caption(\"Tic Tac Toe\")\n",
    "x_img_paths = ['x_r_1.png', 'x_r_2.png', 'x_r_3.png', 'x_r_4.png', ]\n",
    "x_img_path = random.choice(x_img_paths)\n",
    "o_img_paths = ['o_b_1.png', 'o_b_2.png', 'o_b_3.png', 'o_b_4.png', ]\n",
    "o_img_path = random.choice(o_img_paths)\n",
    "# loading the images\n",
    "# opening = pg.image.load('tic tac opening.png')\n",
    "opening = pg.image.load('Opening_1.jpg')\n",
    "x_img = pg.image.load('x_r_1.png')\n",
    "o_img = pg.image.load('o_b_1.png')\n",
    "start_button_img = pg.image.load('Play_button2.png')\n",
    "# resizing images\n",
    "x_img = pg.transform.scale(x_img, (80, 80))\n",
    "o_img = pg.transform.scale(o_img, (80, 80))\n",
    "opening = pg.transform.scale(opening, (width, height))\n",
    "start_button_img = pg.transform.scale(start_button_img, (width-120, 80))\n",
    "start_button_rect = start_button_img.get_rect()\n",
    "start_button_rect.bottom = height+60\n",
    "start_button_rect.centerx = width // 2"
   ]
  },
  {
   "cell_type": "markdown",
   "id": "8ce979cd",
   "metadata": {},
   "source": [
    "# scene1 function for game opening screen"
   ]
  },
  {
   "cell_type": "code",
   "execution_count": 4,
   "id": "16ee2910",
   "metadata": {},
   "outputs": [],
   "source": [
    "#scene1 function for game opening screen\n",
    "def scene1():\n",
    "    screen.fill(white)\n",
    "    screen.blit(opening, (0, 0))\n",
    "    screen.blit(start_button_img, start_button_rect)\n",
    "    # run the game loop forever\n",
    "    while(True):\n",
    "        for event in pg.event.get():\n",
    "            if event.type == QUIT:\n",
    "                pg.quit()\n",
    "                sys.exit()\n",
    "            elif event.type == MOUSEBUTTONDOWN:\n",
    "                if start_button_rect.collidepoint(event.pos):\n",
    "                    game_opening()\n",
    "\n",
    "        pg.display.update()\n",
    "        CLOCK.tick(fps)"
   ]
  },
  {
   "cell_type": "markdown",
   "id": "b6661d49",
   "metadata": {},
   "source": [
    "# game_opening function to draw the game board and initial messages"
   ]
  },
  {
   "cell_type": "code",
   "execution_count": 5,
   "id": "3f172570",
   "metadata": {},
   "outputs": [],
   "source": [
    "#draw the game board\n",
    "def game_opening():\n",
    "    screen.fill(white)\n",
    "\n",
    "    # Drawing vertical lines\n",
    "    pg.draw.line(screen, line_color, (width/3, 0), (width/3, height), 7)\n",
    "    pg.draw.line(screen, line_color, (width/3*2, 0), (width/3*2, height), 7)\n",
    "    # Drawing horizontal lines\n",
    "    pg.draw.line(screen, line_color, (0, height/3), (width, height/3), 7)\n",
    "    pg.draw.line(screen, line_color, (0, height/3*2), (width, height/3*2), 7)\n",
    "    draw_status()\n"
   ]
  },
  {
   "cell_type": "markdown",
   "id": "41dfb722",
   "metadata": {},
   "source": [
    "# draw_status function to display current player's turn and messages"
   ]
  },
  {
   "cell_type": "code",
   "execution_count": 6,
   "id": "0ca8ba10",
   "metadata": {},
   "outputs": [],
   "source": [
    "#display current player's turn and messages\n",
    "def draw_status():\n",
    "    global draw\n",
    "    # print(winner)\n",
    "\n",
    "    if winner is None:\n",
    "        message = XO.upper() + \"'s Turn\"\n",
    "    font = pg.font.Font(None, 30)\n",
    "    text = font.render(message, 1, (255, 255, 255))\n",
    "    # copy the rendered message onto the board\n",
    "    if XO.upper() == 'O':\n",
    "        screen.fill((0, 0, 0), (0, 400, 500, 100))\n",
    "    else:\n",
    "        screen.fill((255, 0, 0), (0, 400, 500, 100))\n",
    "    text_rect = text.get_rect(center=(width/2, 500-50))\n",
    "    screen.blit(text, text_rect)\n",
    "    # pg.display.update()\n",
    "    # run the game loop forever\n",
    "    # # run the game loop forever\n",
    "    while(True):\n",
    "        for event in pg.event.get():\n",
    "            if event.type == QUIT:\n",
    "                pg.quit()\n",
    "                sys.exit()\n",
    "            elif event.type == MOUSEBUTTONDOWN:\n",
    "                # the user clicked; place an X or O\n",
    "                userClick()\n",
    "\n",
    "        pg.display.update()\n",
    "        CLOCK.tick(fps)"
   ]
  },
  {
   "cell_type": "markdown",
   "id": "35a565bb",
   "metadata": {},
   "source": [
    "# check_win function to check for game win or draw\n"
   ]
  },
  {
   "cell_type": "code",
   "execution_count": 7,
   "id": "02f47429",
   "metadata": {},
   "outputs": [],
   "source": [
    "#check for game win or draw\n",
    "\n",
    "def check_win():\n",
    "    # print(\"checkwin\")\n",
    "    global TTT, winner, draw\n",
    "\n",
    "    # check for winning rows\n",
    "    for row in range(0, 3):\n",
    "        if ((TTT[row][0] == TTT[row][1] == TTT[row][2]) and (TTT[row][0] is not None)):\n",
    "            # this row won\n",
    "            winner = TTT[row][0]\n",
    "            pg.draw.line(screen, (250, 0, 0), (0, (row + 1)*height/3 - height/6),\n",
    "                         (width, (row + 1)*height/3 - height/6), 4)\n",
    "            break\n",
    "\n",
    "    # check for winning columns\n",
    "    for col in range(0, 3):\n",
    "        if (TTT[0][col] == TTT[1][col] == TTT[2][col]) and (TTT[0][col] is not None):\n",
    "            # this column won\n",
    "            winner = TTT[0][col]\n",
    "            # draw winning line\n",
    "            pg.draw.line(screen, (250, 0, 0), ((col + 1) * width/3 - width/6, 0),\n",
    "                         ((col + 1) * width/3 - width/6, height), 4)\n",
    "            break\n",
    "\n",
    "    # check for diagonal winners\n",
    "    if (TTT[0][0] == TTT[1][1] == TTT[2][2]) and (TTT[0][0] is not None):\n",
    "        # game won diagonally left to right\n",
    "        winner = TTT[0][0]\n",
    "        pg.draw.line(screen, (250, 70, 70), (50, 50), (350, 350), 4)\n",
    "\n",
    "    if (TTT[0][2] == TTT[1][1] == TTT[2][0]) and (TTT[0][2] is not None):\n",
    "        # game won diagonally right to left\n",
    "        winner = TTT[0][2]\n",
    "        pg.draw.line(screen, (250, 70, 70), (350, 50), (50, 350), 4)\n",
    "\n",
    "    if(all([all(row) for row in TTT]) and winner is None):\n",
    "        draw = True\n",
    "    # while(True):\n",
    "    # print(\"winner: \", winner, 'draw: ', draw)\n",
    "    if(winner or draw):\n",
    "        color = (0,0,0)\n",
    "        if winner:\n",
    "            color = (60,240,115)\n",
    "            time.sleep(0.5)\n",
    "            draw_sound.play()\n",
    "            win_sound.play()\n",
    "            message = winner.upper() + \" won!\"\n",
    "        if draw:\n",
    "            color = (0,0,0)\n",
    "            message = 'Game Draw!'\n",
    "            tie_sound.play()\n",
    "        font = pg.font.Font(None, 30)\n",
    "        text = font.render(message, 1, (255, 255, 255))\n",
    "        screen.fill(color, (0, 400, 500, 100))\n",
    "        text_rect = text.get_rect(center=(width/2, 500-50))\n",
    "        screen.blit(text, text_rect)\n",
    "        pg.display.update()\n",
    "        CLOCK.tick(fps)\n",
    "        time.sleep(3)\n",
    "        reset_game()\n",
    "    draw_status()"
   ]
  },
  {
   "cell_type": "markdown",
   "id": "4f9301be",
   "metadata": {},
   "source": [
    "# drawXO function to draw X or O on the board"
   ]
  },
  {
   "cell_type": "code",
   "execution_count": 8,
   "id": "ac9b31e3",
   "metadata": {},
   "outputs": [],
   "source": [
    "#draw X or O on the board\n",
    "def drawXO(row, col):\n",
    "    x_img_path = random.choice(x_img_paths)\n",
    "    o_img_path = random.choice(o_img_paths)\n",
    "    x_img = pg.image.load(x_img_path)\n",
    "    o_img = pg.image.load(o_img_path)\n",
    "    x_img = pg.transform.scale(x_img, (80, 80))\n",
    "    o_img = pg.transform.scale(o_img, (80, 80))\n",
    "    global TTT, XO\n",
    "    if row == 1:\n",
    "        posx = 30\n",
    "    if row == 2:\n",
    "        posx = width/3 + 30\n",
    "    if row == 3:\n",
    "        posx = width/3*2 + 30\n",
    "\n",
    "    if col == 1:\n",
    "        posy = 30\n",
    "    if col == 2:\n",
    "        posy = height/3 + 30\n",
    "    if col == 3:\n",
    "        posy = height/3*2 + 30\n",
    "    TTT[row-1][col-1] = XO\n",
    "    if(XO == 'x'):\n",
    "        screen.blit(x_img, (posy, posx))\n",
    "        XO = 'o'\n",
    "    else:\n",
    "        screen.blit(o_img, (posy, posx))\n",
    "        XO = 'x'\n",
    "    pg.display.update()"
   ]
  },
  {
   "cell_type": "markdown",
   "id": "0feac8c8",
   "metadata": {},
   "source": [
    "# userClick function to handle mouse click event"
   ]
  },
  {
   "cell_type": "code",
   "execution_count": 9,
   "id": "3229095c",
   "metadata": {},
   "outputs": [
    {
     "ename": "SystemExit",
     "evalue": "",
     "output_type": "error",
     "traceback": [
      "An exception has occurred, use %tb to see the full traceback.\n",
      "\u001b[0;31mSystemExit\u001b[0m\n"
     ]
    },
    {
     "name": "stderr",
     "output_type": "stream",
     "text": [
      "/Users/hao/opt/anaconda3/lib/python3.9/site-packages/IPython/core/interactiveshell.py:3465: UserWarning: To exit: use 'exit', 'quit', or Ctrl-D.\n",
      "  warn(\"To exit: use 'exit', 'quit', or Ctrl-D.\", stacklevel=1)\n"
     ]
    }
   ],
   "source": [
    "#userClick function to handle mouse click event\n",
    "def userClick():\n",
    "    # click_sound.play()\n",
    "    # get coordinates of mouse click\n",
    "    x, y = pg.mouse.get_pos()\n",
    "\n",
    "    # get column of mouse click (1-3)\n",
    "    if(x < width/3):\n",
    "        col = 1\n",
    "    elif (x < width/3*2):\n",
    "        col = 2\n",
    "    elif(x < width):\n",
    "        col = 3\n",
    "    else:\n",
    "        col = None\n",
    "\n",
    "    # get row of mouse click (1-3)\n",
    "    if(y < height/3):\n",
    "        row = 1\n",
    "    elif (y < height/3*2):\n",
    "        row = 2\n",
    "    elif(y < height):\n",
    "        row = 3\n",
    "    else:\n",
    "        row = None\n",
    "    # print(row,col)\n",
    "\n",
    "    if(row and col and TTT[row-1][col-1] is None):\n",
    "        global XO\n",
    "\n",
    "        # draw the x or o on screen\n",
    "        click_sound.play()\n",
    "        drawXO(row, col)\n",
    "        check_win()\n",
    "\n",
    "# reset game\n",
    "def reset_game():\n",
    "    global TTT, winner, XO, draw\n",
    "    XO = 'x'\n",
    "    draw = False\n",
    "    winner = None\n",
    "    TTT = [[None]*3, [None]*3, [None]*3]\n",
    "    scene1()\n",
    "\n",
    "\n",
    "scene1()"
   ]
  },
  {
   "cell_type": "code",
   "execution_count": null,
   "id": "aa2e0cd3",
   "metadata": {},
   "outputs": [],
   "source": []
  }
 ],
 "metadata": {
  "kernelspec": {
   "display_name": "Python 3 (ipykernel)",
   "language": "python",
   "name": "python3"
  },
  "language_info": {
   "codemirror_mode": {
    "name": "ipython",
    "version": 3
   },
   "file_extension": ".py",
   "mimetype": "text/x-python",
   "name": "python",
   "nbconvert_exporter": "python",
   "pygments_lexer": "ipython3",
   "version": "3.9.13"
  }
 },
 "nbformat": 4,
 "nbformat_minor": 5
}
